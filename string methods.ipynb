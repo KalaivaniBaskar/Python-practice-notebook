{
 "cells": [
  {
   "cell_type": "code",
   "execution_count": 1,
   "id": "dba9fb7c",
   "metadata": {},
   "outputs": [
    {
     "data": {
      "text/plain": [
       "'Malai'"
      ]
     },
     "execution_count": 1,
     "metadata": {},
     "output_type": "execute_result"
    }
   ],
   "source": [
    "name='Kalai';\n",
    "name1='M'+name[1:];\n",
    "name1"
   ]
  },
  {
   "cell_type": "code",
   "execution_count": 3,
   "id": "0c8c3c90",
   "metadata": {},
   "outputs": [
    {
     "data": {
      "text/plain": [
       "'Work hard Yibo. Jiayou!'"
      ]
     },
     "execution_count": 3,
     "metadata": {},
     "output_type": "execute_result"
    }
   ],
   "source": [
    "a=\"Work hard Yibo.\"\n",
    "a= a + \" Jiayou!\"\n",
    "a"
   ]
  },
  {
   "cell_type": "code",
   "execution_count": 10,
   "id": "6db9f302",
   "metadata": {},
   "outputs": [],
   "source": [
    "a= a + \" Jiayou!\""
   ]
  },
  {
   "cell_type": "code",
   "execution_count": 11,
   "id": "b367a5fc",
   "metadata": {},
   "outputs": [
    {
     "data": {
      "text/plain": [
       "'Work hard Yibo. Jiayou! Jiayou! Jiayou! Jiayou! Jiayou!'"
      ]
     },
     "execution_count": 11,
     "metadata": {},
     "output_type": "execute_result"
    }
   ],
   "source": [
    "a"
   ]
  },
  {
   "cell_type": "code",
   "execution_count": 12,
   "id": "88edfca6",
   "metadata": {},
   "outputs": [],
   "source": [
    "# run command a= a + \" Jiayou!\" over and over like a loop adding 'jiayou'"
   ]
  },
  {
   "cell_type": "code",
   "execution_count": 13,
   "id": "96d86e04",
   "metadata": {},
   "outputs": [],
   "source": [
    "letter='z'"
   ]
  },
  {
   "cell_type": "code",
   "execution_count": 14,
   "id": "b5d7c825",
   "metadata": {},
   "outputs": [
    {
     "name": "stdout",
     "output_type": "stream",
     "text": [
      "zzzzzzzzzz\n"
     ]
    }
   ],
   "source": [
    "print(letter*10)"
   ]
  },
  {
   "cell_type": "code",
   "execution_count": 15,
   "id": "7ebedd72",
   "metadata": {},
   "outputs": [
    {
     "data": {
      "text/plain": [
       "5"
      ]
     },
     "execution_count": 15,
     "metadata": {},
     "output_type": "execute_result"
    }
   ],
   "source": [
    "a= 2+3\n",
    "a"
   ]
  },
  {
   "cell_type": "code",
   "execution_count": 17,
   "id": "03bf4f5a",
   "metadata": {},
   "outputs": [
    {
     "data": {
      "text/plain": [
       "'23'"
      ]
     },
     "execution_count": 17,
     "metadata": {},
     "output_type": "execute_result"
    }
   ],
   "source": [
    "a = '2' + '3'\n",
    "a\n",
    "#dynamic typing"
   ]
  },
  {
   "cell_type": "code",
   "execution_count": 25,
   "id": "4488c4c6",
   "metadata": {},
   "outputs": [],
   "source": [
    "# now let's see some built-in string methods. declare and assign a string and then x.<tabkey> gives a list of in built methods\n",
    "x=\"Hello World\";\n",
    "y='my name is kalai';"
   ]
  },
  {
   "cell_type": "code",
   "execution_count": 22,
   "id": "00abf53c",
   "metadata": {},
   "outputs": [
    {
     "data": {
      "text/plain": [
       "'HELLO WORLD'"
      ]
     },
     "execution_count": 22,
     "metadata": {},
     "output_type": "execute_result"
    }
   ],
   "source": [
    "x.upper()"
   ]
  },
  {
   "cell_type": "code",
   "execution_count": 24,
   "id": "1358fa9c",
   "metadata": {},
   "outputs": [
    {
     "data": {
      "text/plain": [
       "'hELLO wORLD'"
      ]
     },
     "execution_count": 24,
     "metadata": {},
     "output_type": "execute_result"
    }
   ],
   "source": [
    "x.swapcase()"
   ]
  },
  {
   "cell_type": "code",
   "execution_count": 26,
   "id": "8fc437ba",
   "metadata": {},
   "outputs": [
    {
     "data": {
      "text/plain": [
       "'My name is kalai'"
      ]
     },
     "execution_count": 26,
     "metadata": {},
     "output_type": "execute_result"
    }
   ],
   "source": [
    "y.capitalize()"
   ]
  },
  {
   "cell_type": "code",
   "execution_count": 27,
   "id": "6becb0d9",
   "metadata": {},
   "outputs": [
    {
     "data": {
      "text/plain": [
       "'hello world'"
      ]
     },
     "execution_count": 27,
     "metadata": {},
     "output_type": "execute_result"
    }
   ],
   "source": [
    "x.lower()"
   ]
  },
  {
   "cell_type": "code",
   "execution_count": 28,
   "id": "764379e0",
   "metadata": {},
   "outputs": [
    {
     "data": {
      "text/plain": [
       "['my', 'name', 'is', 'kalai']"
      ]
     },
     "execution_count": 28,
     "metadata": {},
     "output_type": "execute_result"
    }
   ],
   "source": [
    "y.split()"
   ]
  },
  {
   "cell_type": "code",
   "execution_count": 30,
   "id": "edb75c36",
   "metadata": {},
   "outputs": [
    {
     "data": {
      "text/plain": [
       "['H', 'llo World']"
      ]
     },
     "execution_count": 30,
     "metadata": {},
     "output_type": "execute_result"
    }
   ],
   "source": [
    "x.split('e')"
   ]
  },
  {
   "cell_type": "code",
   "execution_count": 31,
   "id": "17685b0c",
   "metadata": {},
   "outputs": [
    {
     "data": {
      "text/plain": [
       "['my name ', 's kala', '']"
      ]
     },
     "execution_count": 31,
     "metadata": {},
     "output_type": "execute_result"
    }
   ],
   "source": [
    "y.split('i')"
   ]
  },
  {
   "cell_type": "code",
   "execution_count": 4,
   "id": "df32a3ff",
   "metadata": {},
   "outputs": [
    {
     "ename": "ValueError",
     "evalue": "empty separator",
     "output_type": "error",
     "traceback": [
      "\u001b[1;31m---------------------------------------------------------------------------\u001b[0m",
      "\u001b[1;31mValueError\u001b[0m                                Traceback (most recent call last)",
      "Input \u001b[1;32mIn [4]\u001b[0m, in \u001b[0;36m<cell line: 2>\u001b[1;34m()\u001b[0m\n\u001b[0;32m      1\u001b[0m myname \u001b[38;5;241m=\u001b[39m \u001b[38;5;124m\"\u001b[39m\u001b[38;5;124mkalai\u001b[39m\u001b[38;5;124m\"\u001b[39m\n\u001b[1;32m----> 2\u001b[0m \u001b[43mmyname\u001b[49m\u001b[38;5;241;43m.\u001b[39;49m\u001b[43msplit\u001b[49m\u001b[43m(\u001b[49m\u001b[38;5;124;43m'\u001b[39;49m\u001b[38;5;124;43m'\u001b[39;49m\u001b[43m)\u001b[49m\n",
      "\u001b[1;31mValueError\u001b[0m: empty separator"
     ]
    }
   ],
   "source": [
    "myname = \"kalai\"\n",
    "myname.split('')"
   ]
  },
  {
   "cell_type": "code",
   "execution_count": null,
   "id": "b9efc96c",
   "metadata": {},
   "outputs": [],
   "source": []
  }
 ],
 "metadata": {
  "kernelspec": {
   "display_name": "Python 3 (ipykernel)",
   "language": "python",
   "name": "python3"
  },
  "language_info": {
   "codemirror_mode": {
    "name": "ipython",
    "version": 3
   },
   "file_extension": ".py",
   "mimetype": "text/x-python",
   "name": "python",
   "nbconvert_exporter": "python",
   "pygments_lexer": "ipython3",
   "version": "3.9.12"
  }
 },
 "nbformat": 4,
 "nbformat_minor": 5
}
