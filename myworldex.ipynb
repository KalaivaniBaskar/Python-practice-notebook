{
 "cells": [
  {
   "cell_type": "code",
   "execution_count": 1,
   "id": "ab077a58",
   "metadata": {},
   "outputs": [
    {
     "name": "stdout",
     "output_type": "stream",
     "text": [
      "my name is kalai\n"
     ]
    }
   ],
   "source": [
    "print('my name is kalai')"
   ]
  },
  {
   "cell_type": "code",
   "execution_count": 2,
   "id": "818f545a",
   "metadata": {},
   "outputs": [
    {
     "name": "stdout",
     "output_type": "stream",
     "text": [
      "be better everyday\n"
     ]
    }
   ],
   "source": [
    "print('be better everyday')"
   ]
  },
  {
   "cell_type": "markdown",
   "id": "a90e8b26",
   "metadata": {},
   "source": [
    "tip: press shift + enter to run the code in a cell"
   ]
  },
  {
   "cell_type": "code",
   "execution_count": 1,
   "id": "adc6aacd",
   "metadata": {},
   "outputs": [
    {
     "name": "stdout",
     "output_type": "stream",
     "text": [
      "be one percent better everyday\n",
      "consistentcy is the key\n"
     ]
    }
   ],
   "source": [
    "print(\"be one percent better everyday\")\n",
    "print('consistentcy is the key')"
   ]
  },
  {
   "cell_type": "code",
   "execution_count": null,
   "id": "7f5b7643",
   "metadata": {},
   "outputs": [],
   "source": []
  }
 ],
 "metadata": {
  "kernelspec": {
   "display_name": "Python 3 (ipykernel)",
   "language": "python",
   "name": "python3"
  },
  "language_info": {
   "codemirror_mode": {
    "name": "ipython",
    "version": 3
   },
   "file_extension": ".py",
   "mimetype": "text/x-python",
   "name": "python",
   "nbconvert_exporter": "python",
   "pygments_lexer": "ipython3",
   "version": "3.9.12"
  }
 },
 "nbformat": 4,
 "nbformat_minor": 5
}
