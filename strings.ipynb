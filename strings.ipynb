{
 "cells": [
  {
   "cell_type": "code",
   "execution_count": 15,
   "id": "9fb10a17",
   "metadata": {},
   "outputs": [
    {
     "data": {
      "text/plain": [
       "'hello'"
      ]
     },
     "execution_count": 15,
     "metadata": {},
     "output_type": "execute_result"
    }
   ],
   "source": [
    "\"hello\""
   ]
  },
  {
   "cell_type": "code",
   "execution_count": 16,
   "id": "30abd712",
   "metadata": {},
   "outputs": [
    {
     "name": "stdout",
     "output_type": "stream",
     "text": [
      "hello\n"
     ]
    }
   ],
   "source": [
    "print(\"hello\")"
   ]
  },
  {
   "cell_type": "code",
   "execution_count": 13,
   "id": "acd1cf11",
   "metadata": {},
   "outputs": [
    {
     "data": {
      "text/plain": [
       "'how are you?'"
      ]
     },
     "execution_count": 13,
     "metadata": {},
     "output_type": "execute_result"
    }
   ],
   "source": [
    "'how are you?'"
   ]
  },
  {
   "cell_type": "code",
   "execution_count": 17,
   "id": "66930b57",
   "metadata": {},
   "outputs": [
    {
     "name": "stdout",
     "output_type": "stream",
     "text": [
      "how are you\n"
     ]
    }
   ],
   "source": [
    "print(\"how are you\")"
   ]
  },
  {
   "cell_type": "code",
   "execution_count": 18,
   "id": "2515ba79",
   "metadata": {},
   "outputs": [
    {
     "name": "stdout",
     "output_type": "stream",
     "text": [
      "kalai\n",
      "female\t30\n"
     ]
    }
   ],
   "source": [
    "print(\"kalai\\nfemale\\t30\")"
   ]
  },
  {
   "cell_type": "code",
   "execution_count": 20,
   "id": "7ee2dd8d",
   "metadata": {},
   "outputs": [
    {
     "name": "stdout",
     "output_type": "stream",
     "text": [
      "Kalai B female backward class  don't give up\n"
     ]
    }
   ],
   "source": [
    "name = 'Kalai B';\n",
    "gender= 'female';\n",
    "caste=\"backward class\";\n",
    "motto= \" don't give up\";\n",
    "age=28;\n",
    "print(name,gender,caste,motto)"
   ]
  },
  {
   "cell_type": "code",
   "execution_count": 9,
   "id": "72e820e8",
   "metadata": {},
   "outputs": [
    {
     "name": "stdout",
     "output_type": "stream",
     "text": [
      "K B\n",
      "b   c\n"
     ]
    }
   ],
   "source": [
    "print(name[0],name[6])\n",
    "print(caste[0],caste[8],caste[9])"
   ]
  },
  {
   "cell_type": "code",
   "execution_count": 22,
   "id": "bebad453",
   "metadata": {},
   "outputs": [
    {
     "name": "stdout",
     "output_type": "stream",
     "text": [
      "K B\n"
     ]
    },
    {
     "data": {
      "text/plain": [
       "14"
      ]
     },
     "execution_count": 22,
     "metadata": {},
     "output_type": "execute_result"
    }
   ],
   "source": [
    "print(name[0],name[-1])\n",
    "len(motto)"
   ]
  },
  {
   "cell_type": "code",
   "execution_count": 11,
   "id": "4c466a51",
   "metadata": {},
   "outputs": [
    {
     "name": "stdout",
     "output_type": "stream",
     "text": [
      "B   i a l a K\n"
     ]
    }
   ],
   "source": [
    "print(name[-1],name[-2],name[-3],name[-4],name[-5],name[-6],name[0])"
   ]
  },
  {
   "cell_type": "code",
   "execution_count": 2,
   "id": "ed439bcb",
   "metadata": {},
   "outputs": [
    {
     "name": "stdout",
     "output_type": "stream",
     "text": [
      "abab\n"
     ]
    },
    {
     "data": {
      "text/plain": [
       "15"
      ]
     },
     "execution_count": 2,
     "metadata": {},
     "output_type": "execute_result"
    }
   ],
   "source": [
    "z=\"abababababababa\";\n",
    "y=\"abcdefghijkl\";\n",
    "print(z[0:4:])\n",
    "len(z)"
   ]
  },
  {
   "cell_type": "code",
   "execution_count": 3,
   "id": "186285ad",
   "metadata": {},
   "outputs": [
    {
     "data": {
      "text/plain": [
       "'abababababababa'"
      ]
     },
     "execution_count": 3,
     "metadata": {},
     "output_type": "execute_result"
    }
   ],
   "source": [
    "z[0::1]"
   ]
  },
  {
   "cell_type": "code",
   "execution_count": 4,
   "id": "62255f74",
   "metadata": {},
   "outputs": [
    {
     "data": {
      "text/plain": [
       "'aaaaaaaa'"
      ]
     },
     "execution_count": 4,
     "metadata": {},
     "output_type": "execute_result"
    }
   ],
   "source": [
    "z[0::2]"
   ]
  },
  {
   "cell_type": "code",
   "execution_count": 32,
   "id": "4353dff4",
   "metadata": {},
   "outputs": [
    {
     "data": {
      "text/plain": [
       "'ababa'"
      ]
     },
     "execution_count": 32,
     "metadata": {},
     "output_type": "execute_result"
    }
   ],
   "source": [
    "z[0::3]"
   ]
  },
  {
   "cell_type": "code",
   "execution_count": 33,
   "id": "9e588344",
   "metadata": {},
   "outputs": [
    {
     "data": {
      "text/plain": [
       "'bababababababa'"
      ]
     },
     "execution_count": 33,
     "metadata": {},
     "output_type": "execute_result"
    }
   ],
   "source": [
    "z[1::1]"
   ]
  },
  {
   "cell_type": "code",
   "execution_count": 34,
   "id": "f296be74",
   "metadata": {},
   "outputs": [
    {
     "data": {
      "text/plain": [
       "'bbbbbbb'"
      ]
     },
     "execution_count": 34,
     "metadata": {},
     "output_type": "execute_result"
    }
   ],
   "source": [
    "z[1::2]"
   ]
  },
  {
   "cell_type": "code",
   "execution_count": 35,
   "id": "c65a3182",
   "metadata": {},
   "outputs": [
    {
     "data": {
      "text/plain": [
       "'cdefghijkl'"
      ]
     },
     "execution_count": 35,
     "metadata": {},
     "output_type": "execute_result"
    }
   ],
   "source": [
    "len(y)\n",
    "y[2:]"
   ]
  },
  {
   "cell_type": "code",
   "execution_count": 36,
   "id": "b5379508",
   "metadata": {},
   "outputs": [
    {
     "data": {
      "text/plain": [
       "'abc'"
      ]
     },
     "execution_count": 36,
     "metadata": {},
     "output_type": "execute_result"
    }
   ],
   "source": [
    "y[0:3]"
   ]
  },
  {
   "cell_type": "code",
   "execution_count": 37,
   "id": "64bb9efe",
   "metadata": {},
   "outputs": [
    {
     "data": {
      "text/plain": [
       "'ac'"
      ]
     },
     "execution_count": 37,
     "metadata": {},
     "output_type": "execute_result"
    }
   ],
   "source": [
    "y[0:3:2]"
   ]
  },
  {
   "cell_type": "code",
   "execution_count": 38,
   "id": "b2476019",
   "metadata": {},
   "outputs": [
    {
     "data": {
      "text/plain": [
       "'abcdef'"
      ]
     },
     "execution_count": 38,
     "metadata": {},
     "output_type": "execute_result"
    }
   ],
   "source": [
    "y[0:6:1]"
   ]
  },
  {
   "cell_type": "code",
   "execution_count": 39,
   "id": "1262fb0f",
   "metadata": {},
   "outputs": [
    {
     "data": {
      "text/plain": [
       "'def'"
      ]
     },
     "execution_count": 39,
     "metadata": {},
     "output_type": "execute_result"
    }
   ],
   "source": [
    "y[3:6]"
   ]
  },
  {
   "cell_type": "code",
   "execution_count": 40,
   "id": "571f63cb",
   "metadata": {},
   "outputs": [
    {
     "data": {
      "text/plain": [
       "'acegik'"
      ]
     },
     "execution_count": 40,
     "metadata": {},
     "output_type": "execute_result"
    }
   ],
   "source": [
    "y[::2]"
   ]
  },
  {
   "cell_type": "code",
   "execution_count": 41,
   "id": "f1a441b2",
   "metadata": {},
   "outputs": [
    {
     "data": {
      "text/plain": [
       "'lkjihgfedcba'"
      ]
     },
     "execution_count": 41,
     "metadata": {},
     "output_type": "execute_result"
    }
   ],
   "source": [
    "y[::-1]"
   ]
  },
  {
   "cell_type": "code",
   "execution_count": 42,
   "id": "adddd0fd",
   "metadata": {},
   "outputs": [
    {
     "data": {
      "text/plain": [
       "'ljhfdb'"
      ]
     },
     "execution_count": 42,
     "metadata": {},
     "output_type": "execute_result"
    }
   ],
   "source": [
    "y[::-2]"
   ]
  },
  {
   "cell_type": "code",
   "execution_count": 43,
   "id": "f67b2604",
   "metadata": {},
   "outputs": [
    {
     "data": {
      "text/plain": [
       "'abcdefghijkl'"
      ]
     },
     "execution_count": 43,
     "metadata": {},
     "output_type": "execute_result"
    }
   ],
   "source": [
    "y"
   ]
  },
  {
   "cell_type": "code",
   "execution_count": 44,
   "id": "583e8547",
   "metadata": {},
   "outputs": [
    {
     "data": {
      "text/plain": [
       "'k'"
      ]
     },
     "execution_count": 44,
     "metadata": {},
     "output_type": "execute_result"
    }
   ],
   "source": [
    "y[-2]"
   ]
  },
  {
   "cell_type": "code",
   "execution_count": 45,
   "id": "bef61083",
   "metadata": {},
   "outputs": [
    {
     "data": {
      "text/plain": [
       "'lkjihgfedcba'"
      ]
     },
     "execution_count": 45,
     "metadata": {},
     "output_type": "execute_result"
    }
   ],
   "source": [
    "y[-1::-1]"
   ]
  },
  {
   "cell_type": "code",
   "execution_count": 46,
   "id": "2034e00e",
   "metadata": {},
   "outputs": [
    {
     "data": {
      "text/plain": [
       "'ljhfdb'"
      ]
     },
     "execution_count": 46,
     "metadata": {},
     "output_type": "execute_result"
    }
   ],
   "source": [
    "y[-1::-2]"
   ]
  },
  {
   "cell_type": "code",
   "execution_count": 47,
   "id": "d091799f",
   "metadata": {},
   "outputs": [
    {
     "data": {
      "text/plain": [
       "'a'"
      ]
     },
     "execution_count": 47,
     "metadata": {},
     "output_type": "execute_result"
    }
   ],
   "source": [
    "y[0::-2]"
   ]
  },
  {
   "cell_type": "code",
   "execution_count": 48,
   "id": "74a7b575",
   "metadata": {},
   "outputs": [
    {
     "data": {
      "text/plain": [
       "'a'"
      ]
     },
     "execution_count": 48,
     "metadata": {},
     "output_type": "execute_result"
    }
   ],
   "source": [
    "y[0::-1]"
   ]
  },
  {
   "cell_type": "markdown",
   "id": "97e9e8ea",
   "metadata": {},
   "source": [
    "interesting observeration when using slicing steps in reverse order. must try later. usually reverse index goes anticlockwise. but here one explicitly stating 0th index, it only goes clockwise"
   ]
  },
  {
   "cell_type": "code",
   "execution_count": null,
   "id": "42937c3f",
   "metadata": {},
   "outputs": [],
   "source": []
  }
 ],
 "metadata": {
  "kernelspec": {
   "display_name": "Python 3 (ipykernel)",
   "language": "python",
   "name": "python3"
  },
  "language_info": {
   "codemirror_mode": {
    "name": "ipython",
    "version": 3
   },
   "file_extension": ".py",
   "mimetype": "text/x-python",
   "name": "python",
   "nbconvert_exporter": "python",
   "pygments_lexer": "ipython3",
   "version": "3.9.12"
  }
 },
 "nbformat": 4,
 "nbformat_minor": 5
}
