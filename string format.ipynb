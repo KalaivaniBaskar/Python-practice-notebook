{
 "cells": [
  {
   "cell_type": "code",
   "execution_count": 3,
   "id": "035126d4",
   "metadata": {},
   "outputs": [],
   "source": [
    "a=\"Yibo\""
   ]
  },
  {
   "cell_type": "code",
   "execution_count": 4,
   "id": "97165254",
   "metadata": {},
   "outputs": [
    {
     "name": "stdout",
     "output_type": "stream",
     "text": [
      "Wang Yibo\n"
     ]
    }
   ],
   "source": [
    "print('Wang '+a);"
   ]
  },
  {
   "cell_type": "code",
   "execution_count": 6,
   "id": "f26c04bd",
   "metadata": {},
   "outputs": [
    {
     "name": "stdout",
     "output_type": "stream",
     "text": [
      "Kalai has done C++, mainframe, python\n"
     ]
    }
   ],
   "source": [
    "print(\"Kalai has done {}, {}, {}\".format('C++','mainframe','python'));"
   ]
  },
  {
   "cell_type": "code",
   "execution_count": 7,
   "id": "3636a961",
   "metadata": {},
   "outputs": [
    {
     "name": "stdout",
     "output_type": "stream",
     "text": [
      "Kalai has done python, C++, mainframe\n"
     ]
    }
   ],
   "source": [
    "print(\"Kalai has done {2}, {0}, {1}\".format('C++','mainframe','python'));"
   ]
  },
  {
   "cell_type": "code",
   "execution_count": 8,
   "id": "dbc91a44",
   "metadata": {},
   "outputs": [
    {
     "name": "stdout",
     "output_type": "stream",
     "text": [
      "Kalai has done C++, C++, mainframe\n"
     ]
    }
   ],
   "source": [
    "print(\"Kalai has done {0}, {0}, {1}\".format('C++','mainframe','python'));"
   ]
  },
  {
   "cell_type": "code",
   "execution_count": 9,
   "id": "1bf46149",
   "metadata": {},
   "outputs": [
    {
     "name": "stdout",
     "output_type": "stream",
     "text": [
      "The quick brown fox\n"
     ]
    }
   ],
   "source": [
    "print(\"The {q} {b} {f}\".format(b='brown', q='quick', f='fox'));"
   ]
  },
  {
   "cell_type": "code",
   "execution_count": 10,
   "id": "397f7c3c",
   "metadata": {},
   "outputs": [
    {
     "name": "stdout",
     "output_type": "stream",
     "text": [
      "The fox brown fox\n"
     ]
    }
   ],
   "source": [
    "print(\"The {f} {b} {f}\".format(b='brown', q='quick', f='fox'));"
   ]
  },
  {
   "cell_type": "code",
   "execution_count": 15,
   "id": "3cab2c6c",
   "metadata": {},
   "outputs": [
    {
     "data": {
      "text/plain": [
       "0.1287001287001287"
      ]
     },
     "execution_count": 15,
     "metadata": {},
     "output_type": "execute_result"
    }
   ],
   "source": [
    "res=100/777\n",
    "res"
   ]
  },
  {
   "cell_type": "code",
   "execution_count": 16,
   "id": "3b5ddef2",
   "metadata": {},
   "outputs": [
    {
     "name": "stdout",
     "output_type": "stream",
     "text": [
      "Result is 0.12870\n"
     ]
    }
   ],
   "source": [
    "print(\"Result is {r:1.5f}\".format(r=res));"
   ]
  },
  {
   "cell_type": "code",
   "execution_count": 23,
   "id": "2d7a305d",
   "metadata": {},
   "outputs": [
    {
     "name": "stdout",
     "output_type": "stream",
     "text": [
      "Result is  0.12870\n"
     ]
    }
   ],
   "source": [
    "print(\"Result is {r:8.5f}\".format(r=res));\n",
    "# 8 here is the width of the the variable r we need displayed in the result. this is float formatting"
   ]
  },
  {
   "cell_type": "code",
   "execution_count": 18,
   "id": "5fba6819",
   "metadata": {},
   "outputs": [
    {
     "name": "stdout",
     "output_type": "stream",
     "text": [
      "Result is              0.12870\n"
     ]
    }
   ],
   "source": [
    "print(\"Result is {r:20.5f}\".format(r=res));"
   ]
  },
  {
   "cell_type": "code",
   "execution_count": 21,
   "id": "a7ef6490",
   "metadata": {},
   "outputs": [
    {
     "data": {
      "text/plain": [
       "833.3333333333334"
      ]
     },
     "execution_count": 21,
     "metadata": {},
     "output_type": "execute_result"
    }
   ],
   "source": [
    "result=10000/12\n",
    "result"
   ]
  },
  {
   "cell_type": "code",
   "execution_count": 22,
   "id": "a7ea9ca2",
   "metadata": {},
   "outputs": [
    {
     "name": "stdout",
     "output_type": "stream",
     "text": [
      "Result is 833.33333\n"
     ]
    }
   ],
   "source": [
    "print(\"Result is {r:8.5f}\".format(r=result));"
   ]
  },
  {
   "cell_type": "code",
   "execution_count": 27,
   "id": "2908fff1",
   "metadata": {},
   "outputs": [],
   "source": [
    "# now moving on to f strings formatting. similar to print f.\n",
    "name =\"Jose\""
   ]
  },
  {
   "cell_type": "code",
   "execution_count": 28,
   "id": "987fbe5c",
   "metadata": {},
   "outputs": [
    {
     "name": "stdout",
     "output_type": "stream",
     "text": [
      "His name is Jose\n"
     ]
    }
   ],
   "source": [
    "print(f'His name is {name}')"
   ]
  },
  {
   "cell_type": "code",
   "execution_count": 29,
   "id": "54b1c49a",
   "metadata": {},
   "outputs": [],
   "source": [
    "age=23"
   ]
  },
  {
   "cell_type": "code",
   "execution_count": 30,
   "id": "e2650adb",
   "metadata": {},
   "outputs": [
    {
     "name": "stdout",
     "output_type": "stream",
     "text": [
      "His name is Jose He is 23 years old\n"
     ]
    }
   ],
   "source": [
    "print(f'His name is {name} He is {age} years old')"
   ]
  },
  {
   "cell_type": "code",
   "execution_count": 31,
   "id": "4fb0b9c6",
   "metadata": {},
   "outputs": [
    {
     "name": "stdout",
     "output_type": "stream",
     "text": [
      " I am studying Python course and Japanese course right now\n"
     ]
    }
   ],
   "source": [
    "print(\" I am studying %s course and %s course right now\" %('Python','Japanese'))\n",
    "# this %s is formatting placeholder"
   ]
  },
  {
   "cell_type": "code",
   "execution_count": 32,
   "id": "dfcd6155",
   "metadata": {},
   "outputs": [
    {
     "name": "stdout",
     "output_type": "stream",
     "text": [
      " I am studying python course and japanese course right now\n"
     ]
    }
   ],
   "source": [
    "p='python'\n",
    "j='japanese'\n",
    "print(\" I am studying %s course and %s course right now\" %(p,j))"
   ]
  },
  {
   "cell_type": "code",
   "execution_count": 33,
   "id": "2baf9f41",
   "metadata": {},
   "outputs": [
    {
     "name": "stdout",
     "output_type": "stream",
     "text": [
      "Python rules!\n"
     ]
    }
   ],
   "source": [
    "print(\"Python %s\" %'rules!')"
   ]
  },
  {
   "cell_type": "code",
   "execution_count": 34,
   "id": "2a3494a4",
   "metadata": {},
   "outputs": [
    {
     "name": "stdout",
     "output_type": "stream",
     "text": [
      "Python rules!\n"
     ]
    }
   ],
   "source": [
    "print(\"Python {}\".format('rules!'))"
   ]
  },
  {
   "cell_type": "code",
   "execution_count": 9,
   "id": "d0c6f959",
   "metadata": {},
   "outputs": [
    {
     "name": "stdout",
     "output_type": "stream",
     "text": [
      "Fruit    | Quantity \n",
      "Apples   |       3.0\n",
      "Oranges  | 123456789012\n",
      "KiwiKiwiKiwi | 123456789\n"
     ]
    }
   ],
   "source": [
    "print('{0:8} | {1:9}'.format('Fruit', 'Quantity'))\n",
    "print('{0:8} | {1:9}'.format('Apples', 3.))\n",
    "print('{0:8} | {1:9}'.format('Oranges', 123456789012))\n",
    "print('{0:8} | {1:9}'.format('KiwiKiwiKiwi', 123456789))\n",
    "#   0 is index of format() so first value is referred and 8 denotes the length assigned for it in display\n",
    "#   1 is index of format() so second value is referred and 8 denotes the length assigned for it in display \n",
    "#note in 2nd number ex only 9 digits are accomodated as per alignment \n",
    "# and last 3 digits are pushed to the right without disturbing alignment cuz text align left and numbs to right"
   ]
  },
  {
   "cell_type": "code",
   "execution_count": 1,
   "id": "b9faab00",
   "metadata": {},
   "outputs": [
    {
     "name": "stdout",
     "output_type": "stream",
     "text": [
      "My 10 character, four decimal number is:   23.4500\n",
      "My 10 character, four decimal number is:   23.4500\n"
     ]
    }
   ],
   "source": [
    "num = 23.45\n",
    "print(\"My 10 character, four decimal number is:{0:10.4f}\".format(num))\n",
    "print(f\"My 10 character, four decimal number is:{num:10.4f}\")"
   ]
  },
  {
   "cell_type": "code",
   "execution_count": 6,
   "id": "0917fbff",
   "metadata": {},
   "outputs": [
    {
     "name": "stdout",
     "output_type": "stream",
     "text": [
      "My any character, four decimal number is:23.4500\n"
     ]
    }
   ],
   "source": [
    "num = 23.45\n",
    "print(f\"My any character, four decimal number is:{num:.4f}\")"
   ]
  },
  {
   "cell_type": "code",
   "execution_count": 5,
   "id": "0d148a2b",
   "metadata": {},
   "outputs": [
    {
     "name": "stdout",
     "output_type": "stream",
     "text": [
      "My any character with padding to max 20 char, four decimal number is:             23.4500\n"
     ]
    }
   ],
   "source": [
    "num = 23.45 \n",
    "print(f\"My any character with padding to max 20 char, four decimal number is:{num:20.4f}\")"
   ]
  },
  {
   "cell_type": "code",
   "execution_count": 11,
   "id": "fdd1f261",
   "metadata": {},
   "outputs": [
    {
     "name": "stdout",
     "output_type": "stream",
     "text": [
      "kalaivani\n"
     ]
    }
   ],
   "source": [
    "myname = \"kalaivani\" \n",
    "print(myname[::1])"
   ]
  },
  {
   "cell_type": "code",
   "execution_count": 12,
   "id": "4ccc0697",
   "metadata": {},
   "outputs": [
    {
     "name": "stdout",
     "output_type": "stream",
     "text": [
      "kliai\n"
     ]
    }
   ],
   "source": [
    "myname = \"kalaivani\" \n",
    "print(myname[::2])"
   ]
  },
  {
   "cell_type": "code",
   "execution_count": 13,
   "id": "696b52b1",
   "metadata": {},
   "outputs": [
    {
     "name": "stdout",
     "output_type": "stream",
     "text": [
      "aavn\n"
     ]
    }
   ],
   "source": [
    "myname = \"kalaivani\" \n",
    "print(myname[1::2])"
   ]
  },
  {
   "cell_type": "code",
   "execution_count": 14,
   "id": "e3ee51bf",
   "metadata": {},
   "outputs": [
    {
     "name": "stdout",
     "output_type": "stream",
     "text": [
      "inavialak\n"
     ]
    }
   ],
   "source": [
    "myname = \"kalaivani\" \n",
    "print(myname[::-1])"
   ]
  },
  {
   "cell_type": "code",
   "execution_count": null,
   "id": "c5738091",
   "metadata": {},
   "outputs": [],
   "source": []
  }
 ],
 "metadata": {
  "kernelspec": {
   "display_name": "Python 3 (ipykernel)",
   "language": "python",
   "name": "python3"
  },
  "language_info": {
   "codemirror_mode": {
    "name": "ipython",
    "version": 3
   },
   "file_extension": ".py",
   "mimetype": "text/x-python",
   "name": "python",
   "nbconvert_exporter": "python",
   "pygments_lexer": "ipython3",
   "version": "3.9.12"
  }
 },
 "nbformat": 4,
 "nbformat_minor": 5
}
