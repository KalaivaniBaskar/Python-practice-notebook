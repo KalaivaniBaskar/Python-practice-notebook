{
 "cells": [
  {
   "cell_type": "code",
   "execution_count": 1,
   "id": "719ad1f9",
   "metadata": {},
   "outputs": [
    {
     "name": "stdout",
     "output_type": "stream",
     "text": [
      "What is your name: kalai\n",
      "How old are you: 32\n",
      "kalai, you will be 100 years old in the year 2091\n"
     ]
    }
   ],
   "source": [
    "name = input(\"What is your name: \")\n",
    "age = int(input(\"How old are you: \"))\n",
    "year = 2023 - age + 100\n",
    "print(name + \", you will be 100 years old in the year \" + str(year))"
   ]
  },
  {
   "cell_type": "code",
   "execution_count": null,
   "id": "86859660",
   "metadata": {},
   "outputs": [],
   "source": []
  }
 ],
 "metadata": {
  "kernelspec": {
   "display_name": "Python 3 (ipykernel)",
   "language": "python",
   "name": "python3"
  },
  "language_info": {
   "codemirror_mode": {
    "name": "ipython",
    "version": 3
   },
   "file_extension": ".py",
   "mimetype": "text/x-python",
   "name": "python",
   "nbconvert_exporter": "python",
   "pygments_lexer": "ipython3",
   "version": "3.9.12"
  }
 },
 "nbformat": 4,
 "nbformat_minor": 5
}
